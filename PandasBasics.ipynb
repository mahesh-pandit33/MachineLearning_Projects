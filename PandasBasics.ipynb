{
  "cells": [
    {
      "cell_type": "code",
      "source": [
        "#DataFrame\n",
        "import pandas as pd\n",
        "data={\n",
        "    \"Name\":['Alice','Mahesh','Raju','Vinay'],\n",
        "    \"Age\":[24,19,29,32],\n",
        "    \"Courses\":['IT','Bcom','Law','Doctor']\n",
        "}\n",
        "df=pd.DataFrame(data)\n",
        "print(df.to_string(index=False))"
      ],
      "metadata": {
        "id": "HuPbW39-7Nb9",
        "outputId": "19b5a160-8907-4066-99da-f8c13ef54a5b",
        "colab": {
          "base_uri": "https://localhost:8080/"
        }
      },
      "execution_count": 1,
      "outputs": [
        {
          "output_type": "stream",
          "name": "stdout",
          "text": [
            "  Name  Age Courses\n",
            " Alice   24      IT\n",
            "Mahesh   19    Bcom\n",
            "  Raju   29     Law\n",
            " Vinay   32  Doctor\n"
          ]
        }
      ]
    },
    {
      "cell_type": "code",
      "source": [
        "\n",
        "#extract Age Data\n",
        "agesCol=df['Age']\n",
        "print(agesCol)"
      ],
      "metadata": {
        "id": "pNsEwYlK7YLL",
        "outputId": "a6fb6413-daa8-4405-e7f8-a3685b64b997",
        "colab": {
          "base_uri": "https://localhost:8080/"
        }
      },
      "execution_count": 2,
      "outputs": [
        {
          "output_type": "stream",
          "name": "stdout",
          "text": [
            "0    24\n",
            "1    19\n",
            "2    29\n",
            "3    32\n",
            "Name: Age, dtype: int64\n"
          ]
        }
      ]
    },
    {
      "cell_type": "code",
      "source": [
        "#Add Salary Column\n",
        "df['Salary']=[1000,2000,3000,4000]\n",
        "print(df)"
      ],
      "metadata": {
        "id": "gFfzVa9n7Zq6",
        "outputId": "f8f37cf6-7aa4-4012-c924-f49117d199be",
        "colab": {
          "base_uri": "https://localhost:8080/"
        }
      },
      "execution_count": 4,
      "outputs": [
        {
          "output_type": "stream",
          "name": "stdout",
          "text": [
            "     Name  Age Courses  Salary\n",
            "0   Alice   24      IT    1000\n",
            "1  Mahesh   19    Bcom    2000\n",
            "2    Raju   29     Law    3000\n",
            "3   Vinay   32  Doctor    4000\n"
          ]
        }
      ]
    },
    {
      "cell_type": "code",
      "source": [
        "#mean of age\n",
        "meanofAge=df['Age'].mean()\n",
        "print(meanofAge)\n",
        ""
      ],
      "metadata": {
        "id": "TbTLl-xS7clN",
        "outputId": "ca29bcb3-2aff-4e56-851b-799525dee9c5",
        "colab": {
          "base_uri": "https://localhost:8080/"
        }
      },
      "execution_count": 5,
      "outputs": [
        {
          "output_type": "stream",
          "name": "stdout",
          "text": [
            "26.0\n"
          ]
        }
      ]
    },
    {
      "cell_type": "code",
      "source": [
        "#sort of Age in Desceding Order\n",
        "sortAgeDesc=df.sort_values(by='Age',ascending=False)\n",
        "print(sortAgeDesc)"
      ],
      "metadata": {
        "id": "JppcmUg27gKb",
        "outputId": "83086fda-912c-4278-bdb6-b863f4c3dfec",
        "colab": {
          "base_uri": "https://localhost:8080/"
        }
      },
      "execution_count": 6,
      "outputs": [
        {
          "output_type": "stream",
          "name": "stdout",
          "text": [
            "     Name  Age Courses  Salary\n",
            "3   Vinay   32  Doctor    4000\n",
            "2    Raju   29     Law    3000\n",
            "0   Alice   24      IT    1000\n",
            "1  Mahesh   19    Bcom    2000\n"
          ]
        }
      ]
    },
    {
      "cell_type": "code",
      "source": [
        "#read data Form csv\n",
        "dfCSV=pd.read_csv('data.csv')\n",
        "print(dfCSV)\n"
      ],
      "metadata": {
        "id": "y3Ljv4e87j-B"
      },
      "execution_count": null,
      "outputs": []
    },
    {
      "cell_type": "code",
      "source": [
        "\n",
        "#read data Form Excel\n",
        "dfExcel=pd.read_excel('data.xlsx')\n",
        "print(dfExcel)"
      ],
      "metadata": {
        "id": "AX1FsdO_7oQF"
      },
      "execution_count": null,
      "outputs": []
    }
  ],
  "metadata": {
    "colab": {
      "name": "Welcome To Colab",
      "provenance": []
    },
    "kernelspec": {
      "display_name": "Python 3",
      "name": "python3"
    }
  },
  "nbformat": 4,
  "nbformat_minor": 0
}